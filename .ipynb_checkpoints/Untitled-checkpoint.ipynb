{
 "cells": [
  {
   "cell_type": "code",
   "execution_count": null,
   "id": "65222044",
   "metadata": {
    "ExecuteTime": {
     "end_time": "2023-01-31T17:23:26.130799Z",
     "start_time": "2023-01-31T17:23:25.585092Z"
    }
   },
   "outputs": [],
   "source": [
    "import pandas as pd\n",
    "import numpy as np"
   ]
  },
  {
   "cell_type": "code",
   "execution_count": null,
   "id": "205cd734",
   "metadata": {
    "ExecuteTime": {
     "end_time": "2023-01-31T17:23:26.628574Z",
     "start_time": "2023-01-31T17:23:26.520072Z"
    }
   },
   "outputs": [],
   "source": [
    "netflix = pd.read_csv('./netflix_titles.csv')\n",
    "netflix.sample(5)"
   ]
  },
  {
   "cell_type": "code",
   "execution_count": null,
   "id": "b3453ade",
   "metadata": {
    "ExecuteTime": {
     "end_time": "2023-01-31T17:23:26.981669Z",
     "start_time": "2023-01-31T17:23:26.976330Z"
    }
   },
   "outputs": [],
   "source": [
    "netflix.rename(columns={'listed_in': 'genre'}, inplace=True)"
   ]
  },
  {
   "cell_type": "code",
   "execution_count": null,
   "id": "df92a37c",
   "metadata": {
    "ExecuteTime": {
     "end_time": "2023-01-31T17:23:27.286114Z",
     "start_time": "2023-01-31T17:23:27.259118Z"
    }
   },
   "outputs": [],
   "source": [
    "round(netflix.isnull().sum()/(len(netflix))*100, 2)"
   ]
  },
  {
   "cell_type": "code",
   "execution_count": null,
   "id": "ad9deba8",
   "metadata": {
    "ExecuteTime": {
     "end_time": "2023-01-31T17:23:27.726285Z",
     "start_time": "2023-01-31T17:23:27.488779Z"
    }
   },
   "outputs": [],
   "source": [
    "netflix['date_added'] = netflix['date_added'].astype('datetime64[ns]')"
   ]
  },
  {
   "cell_type": "code",
   "execution_count": null,
   "id": "6385d36c",
   "metadata": {
    "ExecuteTime": {
     "end_time": "2023-01-31T17:23:27.826016Z",
     "start_time": "2023-01-31T17:23:27.819062Z"
    }
   },
   "outputs": [],
   "source": [
    "netflix.shape"
   ]
  },
  {
   "cell_type": "code",
   "execution_count": null,
   "id": "5748c81f",
   "metadata": {
    "ExecuteTime": {
     "end_time": "2023-01-31T17:23:27.926158Z",
     "start_time": "2023-01-31T17:23:27.907835Z"
    }
   },
   "outputs": [],
   "source": [
    "netflix.sample(15)"
   ]
  },
  {
   "cell_type": "code",
   "execution_count": null,
   "id": "1aac3215",
   "metadata": {
    "ExecuteTime": {
     "end_time": "2023-01-31T17:23:28.042790Z",
     "start_time": "2023-01-31T17:23:28.013263Z"
    }
   },
   "outputs": [],
   "source": [
    "netflix.info()"
   ]
  },
  {
   "cell_type": "code",
   "execution_count": null,
   "id": "3485ab8b",
   "metadata": {
    "ExecuteTime": {
     "end_time": "2023-01-31T17:23:28.160213Z",
     "start_time": "2023-01-31T17:23:28.124866Z"
    }
   },
   "outputs": [],
   "source": [
    "netflix['country'] = netflix['country'].str.split(',')\n",
    "netflix['cast'] = netflix['cast'].str.split(',')\n",
    "netflix['genre'] = netflix['genre'].str.strip()"
   ]
  },
  {
   "cell_type": "code",
   "execution_count": null,
   "id": "3c77bba7",
   "metadata": {
    "ExecuteTime": {
     "end_time": "2023-01-31T17:23:28.556256Z",
     "start_time": "2023-01-31T17:23:28.473469Z"
    }
   },
   "outputs": [],
   "source": [
    "netflix['duration'] = netflix['duration'].str.extract('(\\d+)')"
   ]
  },
  {
   "cell_type": "code",
   "execution_count": null,
   "id": "1a7e0165",
   "metadata": {
    "ExecuteTime": {
     "end_time": "2023-01-31T17:23:29.036588Z",
     "start_time": "2023-01-31T17:23:29.007339Z"
    }
   },
   "outputs": [],
   "source": [
    "netflix"
   ]
  },
  {
   "cell_type": "code",
   "execution_count": null,
   "id": "cc2fa50b",
   "metadata": {
    "ExecuteTime": {
     "end_time": "2023-01-31T17:28:01.355665Z",
     "start_time": "2023-01-31T17:28:00.979179Z"
    }
   },
   "outputs": [],
   "source": [
    "netflix.to_csv('output.csv', index=False)"
   ]
  },
  {
   "cell_type": "code",
   "execution_count": null,
   "id": "3cc68113",
   "metadata": {},
   "outputs": [],
   "source": []
  }
 ],
 "metadata": {
  "kernelspec": {
   "display_name": "Python 3 (ipykernel)",
   "language": "python",
   "name": "python3"
  },
  "language_info": {
   "codemirror_mode": {
    "name": "ipython",
    "version": 3
   },
   "file_extension": ".py",
   "mimetype": "text/x-python",
   "name": "python",
   "nbconvert_exporter": "python",
   "pygments_lexer": "ipython3",
   "version": "3.11.0"
  },
  "varInspector": {
   "cols": {
    "lenName": 16,
    "lenType": 16,
    "lenVar": 40
   },
   "kernels_config": {
    "python": {
     "delete_cmd_postfix": "",
     "delete_cmd_prefix": "del ",
     "library": "var_list.py",
     "varRefreshCmd": "print(var_dic_list())"
    },
    "r": {
     "delete_cmd_postfix": ") ",
     "delete_cmd_prefix": "rm(",
     "library": "var_list.r",
     "varRefreshCmd": "cat(var_dic_list()) "
    }
   },
   "types_to_exclude": [
    "module",
    "function",
    "builtin_function_or_method",
    "instance",
    "_Feature"
   ],
   "window_display": false
  }
 },
 "nbformat": 4,
 "nbformat_minor": 5
}
