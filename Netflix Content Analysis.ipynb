{
 "cells": [
  {
   "cell_type": "markdown",
   "id": "4e45826f",
   "metadata": {},
   "source": [
    "<h1 style=\"color: #E50914;\", align=\"center\"> Netflix Shows and Movies: Analysis</h1>"
   ]
  },
  {
   "cell_type": "markdown",
   "id": "0afa658c",
   "metadata": {},
   "source": [
    "**`Short introductory:`** <br>\n",
    "\n",
    "`This dataset contains over 8,000 unique titles available on Netflix as of September 2021, with 12 columns of information.`"
   ]
  },
  {
   "cell_type": "code",
   "execution_count": 2,
   "id": "a3686816",
   "metadata": {
    "ExecuteTime": {
     "end_time": "2023-02-01T13:29:10.897878Z",
     "start_time": "2023-02-01T13:29:09.944318Z"
    }
   },
   "outputs": [],
   "source": [
    "import pandas as pd\n",
    "import numpy as np"
   ]
  },
  {
   "cell_type": "markdown",
   "id": "a98dad09",
   "metadata": {},
   "source": [
    "<h3 style=\"color: #333333;\">Importing and observing data:</h3> "
   ]
  },
  {
   "cell_type": "code",
   "execution_count": 3,
   "id": "1a71e594",
   "metadata": {
    "ExecuteTime": {
     "end_time": "2023-02-01T13:29:14.251628Z",
     "start_time": "2023-02-01T13:29:14.061421Z"
    },
    "scrolled": false
   },
   "outputs": [
    {
     "data": {
      "text/html": [
       "<div>\n",
       "<style scoped>\n",
       "    .dataframe tbody tr th:only-of-type {\n",
       "        vertical-align: middle;\n",
       "    }\n",
       "\n",
       "    .dataframe tbody tr th {\n",
       "        vertical-align: top;\n",
       "    }\n",
       "\n",
       "    .dataframe thead th {\n",
       "        text-align: right;\n",
       "    }\n",
       "</style>\n",
       "<table border=\"1\" class=\"dataframe\">\n",
       "  <thead>\n",
       "    <tr style=\"text-align: right;\">\n",
       "      <th></th>\n",
       "      <th>show_id</th>\n",
       "      <th>type</th>\n",
       "      <th>title</th>\n",
       "      <th>director</th>\n",
       "      <th>cast</th>\n",
       "      <th>country</th>\n",
       "      <th>date_added</th>\n",
       "      <th>release_year</th>\n",
       "      <th>rating</th>\n",
       "      <th>duration</th>\n",
       "      <th>listed_in</th>\n",
       "      <th>description</th>\n",
       "    </tr>\n",
       "  </thead>\n",
       "  <tbody>\n",
       "    <tr>\n",
       "      <th>0</th>\n",
       "      <td>s1</td>\n",
       "      <td>Movie</td>\n",
       "      <td>Dick Johnson Is Dead</td>\n",
       "      <td>Kirsten Johnson</td>\n",
       "      <td>NaN</td>\n",
       "      <td>United States</td>\n",
       "      <td>September 25, 2021</td>\n",
       "      <td>2020</td>\n",
       "      <td>PG-13</td>\n",
       "      <td>90 min</td>\n",
       "      <td>Documentaries</td>\n",
       "      <td>As her father nears the end of his life, filmm...</td>\n",
       "    </tr>\n",
       "    <tr>\n",
       "      <th>1</th>\n",
       "      <td>s2</td>\n",
       "      <td>TV Show</td>\n",
       "      <td>Blood &amp; Water</td>\n",
       "      <td>NaN</td>\n",
       "      <td>Ama Qamata, Khosi Ngema, Gail Mabalane, Thaban...</td>\n",
       "      <td>South Africa</td>\n",
       "      <td>September 24, 2021</td>\n",
       "      <td>2021</td>\n",
       "      <td>TV-MA</td>\n",
       "      <td>2 Seasons</td>\n",
       "      <td>International TV Shows, TV Dramas, TV Mysteries</td>\n",
       "      <td>After crossing paths at a party, a Cape Town t...</td>\n",
       "    </tr>\n",
       "    <tr>\n",
       "      <th>2</th>\n",
       "      <td>s3</td>\n",
       "      <td>TV Show</td>\n",
       "      <td>Ganglands</td>\n",
       "      <td>Julien Leclercq</td>\n",
       "      <td>Sami Bouajila, Tracy Gotoas, Samuel Jouy, Nabi...</td>\n",
       "      <td>NaN</td>\n",
       "      <td>September 24, 2021</td>\n",
       "      <td>2021</td>\n",
       "      <td>TV-MA</td>\n",
       "      <td>1 Season</td>\n",
       "      <td>Crime TV Shows, International TV Shows, TV Act...</td>\n",
       "      <td>To protect his family from a powerful drug lor...</td>\n",
       "    </tr>\n",
       "    <tr>\n",
       "      <th>3</th>\n",
       "      <td>s4</td>\n",
       "      <td>TV Show</td>\n",
       "      <td>Jailbirds New Orleans</td>\n",
       "      <td>NaN</td>\n",
       "      <td>NaN</td>\n",
       "      <td>NaN</td>\n",
       "      <td>September 24, 2021</td>\n",
       "      <td>2021</td>\n",
       "      <td>TV-MA</td>\n",
       "      <td>1 Season</td>\n",
       "      <td>Docuseries, Reality TV</td>\n",
       "      <td>Feuds, flirtations and toilet talk go down amo...</td>\n",
       "    </tr>\n",
       "    <tr>\n",
       "      <th>4</th>\n",
       "      <td>s5</td>\n",
       "      <td>TV Show</td>\n",
       "      <td>Kota Factory</td>\n",
       "      <td>NaN</td>\n",
       "      <td>Mayur More, Jitendra Kumar, Ranjan Raj, Alam K...</td>\n",
       "      <td>India</td>\n",
       "      <td>September 24, 2021</td>\n",
       "      <td>2021</td>\n",
       "      <td>TV-MA</td>\n",
       "      <td>2 Seasons</td>\n",
       "      <td>International TV Shows, Romantic TV Shows, TV ...</td>\n",
       "      <td>In a city of coaching centers known to train I...</td>\n",
       "    </tr>\n",
       "    <tr>\n",
       "      <th>5</th>\n",
       "      <td>s6</td>\n",
       "      <td>TV Show</td>\n",
       "      <td>Midnight Mass</td>\n",
       "      <td>Mike Flanagan</td>\n",
       "      <td>Kate Siegel, Zach Gilford, Hamish Linklater, H...</td>\n",
       "      <td>NaN</td>\n",
       "      <td>September 24, 2021</td>\n",
       "      <td>2021</td>\n",
       "      <td>TV-MA</td>\n",
       "      <td>1 Season</td>\n",
       "      <td>TV Dramas, TV Horror, TV Mysteries</td>\n",
       "      <td>The arrival of a charismatic young priest brin...</td>\n",
       "    </tr>\n",
       "    <tr>\n",
       "      <th>6</th>\n",
       "      <td>s7</td>\n",
       "      <td>Movie</td>\n",
       "      <td>My Little Pony: A New Generation</td>\n",
       "      <td>Robert Cullen, José Luis Ucha</td>\n",
       "      <td>Vanessa Hudgens, Kimiko Glenn, James Marsden, ...</td>\n",
       "      <td>NaN</td>\n",
       "      <td>September 24, 2021</td>\n",
       "      <td>2021</td>\n",
       "      <td>PG</td>\n",
       "      <td>91 min</td>\n",
       "      <td>Children &amp; Family Movies</td>\n",
       "      <td>Equestria's divided. But a bright-eyed hero be...</td>\n",
       "    </tr>\n",
       "    <tr>\n",
       "      <th>7</th>\n",
       "      <td>s8</td>\n",
       "      <td>Movie</td>\n",
       "      <td>Sankofa</td>\n",
       "      <td>Haile Gerima</td>\n",
       "      <td>Kofi Ghanaba, Oyafunmike Ogunlano, Alexandra D...</td>\n",
       "      <td>United States, Ghana, Burkina Faso, United Kin...</td>\n",
       "      <td>September 24, 2021</td>\n",
       "      <td>1993</td>\n",
       "      <td>TV-MA</td>\n",
       "      <td>125 min</td>\n",
       "      <td>Dramas, Independent Movies, International Movies</td>\n",
       "      <td>On a photo shoot in Ghana, an American model s...</td>\n",
       "    </tr>\n",
       "    <tr>\n",
       "      <th>8</th>\n",
       "      <td>s9</td>\n",
       "      <td>TV Show</td>\n",
       "      <td>The Great British Baking Show</td>\n",
       "      <td>Andy Devonshire</td>\n",
       "      <td>Mel Giedroyc, Sue Perkins, Mary Berry, Paul Ho...</td>\n",
       "      <td>United Kingdom</td>\n",
       "      <td>September 24, 2021</td>\n",
       "      <td>2021</td>\n",
       "      <td>TV-14</td>\n",
       "      <td>9 Seasons</td>\n",
       "      <td>British TV Shows, Reality TV</td>\n",
       "      <td>A talented batch of amateur bakers face off in...</td>\n",
       "    </tr>\n",
       "    <tr>\n",
       "      <th>9</th>\n",
       "      <td>s10</td>\n",
       "      <td>Movie</td>\n",
       "      <td>The Starling</td>\n",
       "      <td>Theodore Melfi</td>\n",
       "      <td>Melissa McCarthy, Chris O'Dowd, Kevin Kline, T...</td>\n",
       "      <td>United States</td>\n",
       "      <td>September 24, 2021</td>\n",
       "      <td>2021</td>\n",
       "      <td>PG-13</td>\n",
       "      <td>104 min</td>\n",
       "      <td>Comedies, Dramas</td>\n",
       "      <td>A woman adjusting to life after a loss contend...</td>\n",
       "    </tr>\n",
       "  </tbody>\n",
       "</table>\n",
       "</div>"
      ],
      "text/plain": [
       "  show_id     type                             title  \\\n",
       "0      s1    Movie              Dick Johnson Is Dead   \n",
       "1      s2  TV Show                     Blood & Water   \n",
       "2      s3  TV Show                         Ganglands   \n",
       "3      s4  TV Show             Jailbirds New Orleans   \n",
       "4      s5  TV Show                      Kota Factory   \n",
       "5      s6  TV Show                     Midnight Mass   \n",
       "6      s7    Movie  My Little Pony: A New Generation   \n",
       "7      s8    Movie                           Sankofa   \n",
       "8      s9  TV Show     The Great British Baking Show   \n",
       "9     s10    Movie                      The Starling   \n",
       "\n",
       "                        director  \\\n",
       "0                Kirsten Johnson   \n",
       "1                            NaN   \n",
       "2                Julien Leclercq   \n",
       "3                            NaN   \n",
       "4                            NaN   \n",
       "5                  Mike Flanagan   \n",
       "6  Robert Cullen, José Luis Ucha   \n",
       "7                   Haile Gerima   \n",
       "8                Andy Devonshire   \n",
       "9                 Theodore Melfi   \n",
       "\n",
       "                                                cast  \\\n",
       "0                                                NaN   \n",
       "1  Ama Qamata, Khosi Ngema, Gail Mabalane, Thaban...   \n",
       "2  Sami Bouajila, Tracy Gotoas, Samuel Jouy, Nabi...   \n",
       "3                                                NaN   \n",
       "4  Mayur More, Jitendra Kumar, Ranjan Raj, Alam K...   \n",
       "5  Kate Siegel, Zach Gilford, Hamish Linklater, H...   \n",
       "6  Vanessa Hudgens, Kimiko Glenn, James Marsden, ...   \n",
       "7  Kofi Ghanaba, Oyafunmike Ogunlano, Alexandra D...   \n",
       "8  Mel Giedroyc, Sue Perkins, Mary Berry, Paul Ho...   \n",
       "9  Melissa McCarthy, Chris O'Dowd, Kevin Kline, T...   \n",
       "\n",
       "                                             country          date_added  \\\n",
       "0                                      United States  September 25, 2021   \n",
       "1                                       South Africa  September 24, 2021   \n",
       "2                                                NaN  September 24, 2021   \n",
       "3                                                NaN  September 24, 2021   \n",
       "4                                              India  September 24, 2021   \n",
       "5                                                NaN  September 24, 2021   \n",
       "6                                                NaN  September 24, 2021   \n",
       "7  United States, Ghana, Burkina Faso, United Kin...  September 24, 2021   \n",
       "8                                     United Kingdom  September 24, 2021   \n",
       "9                                      United States  September 24, 2021   \n",
       "\n",
       "   release_year rating   duration  \\\n",
       "0          2020  PG-13     90 min   \n",
       "1          2021  TV-MA  2 Seasons   \n",
       "2          2021  TV-MA   1 Season   \n",
       "3          2021  TV-MA   1 Season   \n",
       "4          2021  TV-MA  2 Seasons   \n",
       "5          2021  TV-MA   1 Season   \n",
       "6          2021     PG     91 min   \n",
       "7          1993  TV-MA    125 min   \n",
       "8          2021  TV-14  9 Seasons   \n",
       "9          2021  PG-13    104 min   \n",
       "\n",
       "                                           listed_in  \\\n",
       "0                                      Documentaries   \n",
       "1    International TV Shows, TV Dramas, TV Mysteries   \n",
       "2  Crime TV Shows, International TV Shows, TV Act...   \n",
       "3                             Docuseries, Reality TV   \n",
       "4  International TV Shows, Romantic TV Shows, TV ...   \n",
       "5                 TV Dramas, TV Horror, TV Mysteries   \n",
       "6                           Children & Family Movies   \n",
       "7   Dramas, Independent Movies, International Movies   \n",
       "8                       British TV Shows, Reality TV   \n",
       "9                                   Comedies, Dramas   \n",
       "\n",
       "                                         description  \n",
       "0  As her father nears the end of his life, filmm...  \n",
       "1  After crossing paths at a party, a Cape Town t...  \n",
       "2  To protect his family from a powerful drug lor...  \n",
       "3  Feuds, flirtations and toilet talk go down amo...  \n",
       "4  In a city of coaching centers known to train I...  \n",
       "5  The arrival of a charismatic young priest brin...  \n",
       "6  Equestria's divided. But a bright-eyed hero be...  \n",
       "7  On a photo shoot in Ghana, an American model s...  \n",
       "8  A talented batch of amateur bakers face off in...  \n",
       "9  A woman adjusting to life after a loss contend...  "
      ]
     },
     "execution_count": 3,
     "metadata": {},
     "output_type": "execute_result"
    }
   ],
   "source": [
    "netflix = pd.read_csv('./netflix_titles.csv')\n",
    "netflix.sample(5)"
   ]
  },
  {
   "cell_type": "code",
   "execution_count": 3,
   "id": "be1da17c",
   "metadata": {},
   "outputs": [
    {
     "name": "stdout",
     "output_type": "stream",
     "text": [
      "<class 'pandas.core.frame.DataFrame'>\n",
      "RangeIndex: 8807 entries, 0 to 8806\n",
      "Data columns (total 12 columns):\n",
      " #   Column        Non-Null Count  Dtype \n",
      "---  ------        --------------  ----- \n",
      " 0   show_id       8807 non-null   object\n",
      " 1   type          8807 non-null   object\n",
      " 2   title         8807 non-null   object\n",
      " 3   director      6173 non-null   object\n",
      " 4   cast          7982 non-null   object\n",
      " 5   country       7976 non-null   object\n",
      " 6   date_added    8797 non-null   object\n",
      " 7   release_year  8807 non-null   int64 \n",
      " 8   rating        8803 non-null   object\n",
      " 9   duration      8804 non-null   object\n",
      " 10  listed_in     8807 non-null   object\n",
      " 11  description   8807 non-null   object\n",
      "dtypes: int64(1), object(11)\n",
      "memory usage: 825.8+ KB\n"
     ]
    }
   ],
   "source": [
    "#Showing information about the datasets, columns, types etc.\n",
    "netflix.info()"
   ]
  },
  {
   "cell_type": "code",
   "execution_count": 4,
   "id": "c215411f",
   "metadata": {},
   "outputs": [],
   "source": [
    "#Renaming listed_in column to genre\n",
    "netflix.rename(columns={'listed_in': 'genre'}, inplace=True)"
   ]
  },
  {
   "cell_type": "code",
   "execution_count": 5,
   "id": "6c4cc9e7",
   "metadata": {},
   "outputs": [],
   "source": [
    "#Droping description column as it is not needed\n",
    "netflix.drop(['description'], axis=1, inplace=True)"
   ]
  },
  {
   "cell_type": "code",
   "execution_count": 6,
   "id": "51e56b3c",
   "metadata": {},
   "outputs": [
    {
     "data": {
      "text/plain": [
       "show_id          0.00\n",
       "type             0.00\n",
       "title            0.00\n",
       "director        29.91\n",
       "cast             9.37\n",
       "country          9.44\n",
       "date_added       0.11\n",
       "release_year     0.00\n",
       "rating           0.05\n",
       "duration         0.03\n",
       "genre            0.00\n",
       "dtype: float64"
      ]
     },
     "execution_count": 6,
     "metadata": {},
     "output_type": "execute_result"
    }
   ],
   "source": [
    "#Checking null values in columns(%)\n",
    "round(netflix.isnull().sum()/(len(netflix))*100, 2)"
   ]
  },
  {
   "cell_type": "code",
   "execution_count": 7,
   "id": "4a6b77bb",
   "metadata": {},
   "outputs": [
    {
     "data": {
      "text/plain": [
       "0"
      ]
     },
     "execution_count": 7,
     "metadata": {},
     "output_type": "execute_result"
    }
   ],
   "source": [
    "#Checking for duplicate values\n",
    "netflix.duplicated().sum()"
   ]
  },
  {
   "cell_type": "code",
   "execution_count": 8,
   "id": "6100213e",
   "metadata": {},
   "outputs": [
    {
     "data": {
      "text/plain": [
       "show_id         8807\n",
       "type               2\n",
       "title           8807\n",
       "director        4528\n",
       "cast            7692\n",
       "country          748\n",
       "date_added      1767\n",
       "release_year      74\n",
       "rating            17\n",
       "duration         220\n",
       "genre            514\n",
       "dtype: int64"
      ]
     },
     "execution_count": 8,
     "metadata": {},
     "output_type": "execute_result"
    }
   ],
   "source": [
    "#Checking unique values in all columns\n",
    "netflix.nunique()"
   ]
  },
  {
   "cell_type": "markdown",
   "id": "ae12e406",
   "metadata": {},
   "source": [
    "<h3 style=\"color: #333333;\">What is the ratio of movies VS shows on Netlfix?</h3>"
   ]
  },
  {
   "cell_type": "code",
   "execution_count": 9,
   "id": "6f0a9b10",
   "metadata": {},
   "outputs": [
    {
     "name": "stdout",
     "output_type": "stream",
     "text": [
      "Movies make up 69.62% of content, while tv shows make up remaining 30.38% of content on Netflix\n"
     ]
    }
   ],
   "source": [
    "movies, shows = (netflix['type'].value_counts() / len(netflix)) * 100\n",
    "print(f'Movies make up {round(movies, 2)}% of content, while tv shows make up remaining {round(shows,2)}% of content on Netflix')"
   ]
  },
  {
   "cell_type": "markdown",
   "id": "c16e8360",
   "metadata": {},
   "source": [
    "<h3>What amount of content was added each year?</h3> <br>\n",
    "\n",
    "`First we converted date_added column to datetime and then we extraced the year as type: string. \n",
    "To convert the year to integer, we first had to replace NaN values as zeroes, after that we inserted new column year_added in the original dataframe.`"
   ]
  },
  {
   "cell_type": "code",
   "execution_count": 10,
   "id": "d29ee86b",
   "metadata": {},
   "outputs": [],
   "source": [
    "year = netflix['date_added'].astype('datetime64[ns]').dt.strftime('%Y').copy()\n",
    "year.loc[year.isna()] = 0\n",
    "year = year.astype(int)\n",
    "netflix.insert(7, 'year_added', year)"
   ]
  },
  {
   "cell_type": "markdown",
   "id": "ff5fb623",
   "metadata": {},
   "source": [
    "`Then we made a subset copy of the og dataframe. To avoid`**`zeros`**`(which represents NaN values) being grouped, we filtered and droped the rows containing that data. Then we grouped by`**`year_added`**`, and using count method, counted how many movies and tv shows were added each year, sorted in descending order.`"
   ]
  },
  {
   "cell_type": "code",
   "execution_count": 11,
   "id": "1fed3969",
   "metadata": {},
   "outputs": [
    {
     "data": {
      "text/plain": [
       "year_added\n",
       "2019    2016\n",
       "2020    1879\n",
       "2018    1649\n",
       "2021    1498\n",
       "2017    1188\n",
       "2016     429\n",
       "2015      82\n",
       "2014      24\n",
       "2011      13\n",
       "2013      11\n",
       "2012       3\n",
       "2008       2\n",
       "2009       2\n",
       "2010       1\n",
       "Name: show_id, dtype: int64"
      ]
     },
     "execution_count": 11,
     "metadata": {},
     "output_type": "execute_result"
    }
   ],
   "source": [
    "df = netflix[['show_id', 'year_added']].copy()\n",
    "filt = (df['year_added'] == 0)\n",
    "df.drop(df[filt].index, inplace=True)\n",
    "df.groupby('year_added')['show_id'].count().sort_values(ascending=False)"
   ]
  },
  {
   "cell_type": "markdown",
   "id": "ef2f8263",
   "metadata": {},
   "source": [
    "<h3 style=\"color: #333333;\">How much content was added by month in 2019, divided by movies and tv shows.</h3><br>\n",
    "\n",
    "`We copied the subset of data after extracting the month from date_added and filtering the dataset to include only 2019. After creating two series that contained how much movies and shows were added by month, we then joined the  two series on month index. For nicer view, we renamed month_index by name of the month instead of a number `"
   ]
  },
  {
   "cell_type": "code",
   "execution_count": 12,
   "id": "f4af7954",
   "metadata": {},
   "outputs": [],
   "source": [
    "month = netflix['date_added'].astype('datetime64[ns]').dt.strftime('%m')\n",
    "\n",
    "#Inserting month series into original dataframe as month_added\n",
    "netflix.insert(8, 'month_added', month)\n",
    "\n",
    "df = netflix[(netflix['year_added'] == 2019)].copy()\n",
    "df['month_added'] = month\n",
    "movies_added = df[df['type'] == 'Movie'].groupby('month_added').agg(movies_added=('show_id', 'count'))\n",
    "shows_added =  df[df['type'] == 'TV Show'].groupby('month_added').agg(shows_added=('show_id', 'count'))\n",
    "table = pd.concat([movies_added, shows_added], axis=1)"
   ]
  },
  {
   "cell_type": "code",
   "execution_count": 13,
   "id": "b7dbce63",
   "metadata": {},
   "outputs": [
    {
     "data": {
      "text/html": [
       "<div>\n",
       "<style scoped>\n",
       "    .dataframe tbody tr th:only-of-type {\n",
       "        vertical-align: middle;\n",
       "    }\n",
       "\n",
       "    .dataframe tbody tr th {\n",
       "        vertical-align: top;\n",
       "    }\n",
       "\n",
       "    .dataframe thead th {\n",
       "        text-align: right;\n",
       "    }\n",
       "</style>\n",
       "<table border=\"1\" class=\"dataframe\">\n",
       "  <thead>\n",
       "    <tr style=\"text-align: right;\">\n",
       "      <th></th>\n",
       "      <th>movies_added</th>\n",
       "      <th>shows_added</th>\n",
       "    </tr>\n",
       "    <tr>\n",
       "      <th>month_added</th>\n",
       "      <th></th>\n",
       "      <th></th>\n",
       "    </tr>\n",
       "  </thead>\n",
       "  <tbody>\n",
       "    <tr>\n",
       "      <th>Jan</th>\n",
       "      <td>116</td>\n",
       "      <td>37</td>\n",
       "    </tr>\n",
       "    <tr>\n",
       "      <th>Feb</th>\n",
       "      <td>103</td>\n",
       "      <td>45</td>\n",
       "    </tr>\n",
       "    <tr>\n",
       "      <th>Mar</th>\n",
       "      <td>119</td>\n",
       "      <td>53</td>\n",
       "    </tr>\n",
       "    <tr>\n",
       "      <th>Apr</th>\n",
       "      <td>119</td>\n",
       "      <td>43</td>\n",
       "    </tr>\n",
       "    <tr>\n",
       "      <th>May</th>\n",
       "      <td>91</td>\n",
       "      <td>48</td>\n",
       "    </tr>\n",
       "    <tr>\n",
       "      <th>Jun</th>\n",
       "      <td>122</td>\n",
       "      <td>46</td>\n",
       "    </tr>\n",
       "    <tr>\n",
       "      <th>Jul</th>\n",
       "      <td>98</td>\n",
       "      <td>59</td>\n",
       "    </tr>\n",
       "    <tr>\n",
       "      <th>Aug</th>\n",
       "      <td>87</td>\n",
       "      <td>44</td>\n",
       "    </tr>\n",
       "    <tr>\n",
       "      <th>Sep</th>\n",
       "      <td>86</td>\n",
       "      <td>37</td>\n",
       "    </tr>\n",
       "    <tr>\n",
       "      <th>Oct</th>\n",
       "      <td>128</td>\n",
       "      <td>65</td>\n",
       "    </tr>\n",
       "    <tr>\n",
       "      <th>Nov</th>\n",
       "      <td>187</td>\n",
       "      <td>68</td>\n",
       "    </tr>\n",
       "    <tr>\n",
       "      <th>Dec</th>\n",
       "      <td>168</td>\n",
       "      <td>47</td>\n",
       "    </tr>\n",
       "  </tbody>\n",
       "</table>\n",
       "</div>"
      ],
      "text/plain": [
       "             movies_added  shows_added\n",
       "month_added                           \n",
       "Jan                   116           37\n",
       "Feb                   103           45\n",
       "Mar                   119           53\n",
       "Apr                   119           43\n",
       "May                    91           48\n",
       "Jun                   122           46\n",
       "Jul                    98           59\n",
       "Aug                    87           44\n",
       "Sep                    86           37\n",
       "Oct                   128           65\n",
       "Nov                   187           68\n",
       "Dec                   168           47"
      ]
     },
     "execution_count": 13,
     "metadata": {},
     "output_type": "execute_result"
    }
   ],
   "source": [
    "month_map = {'01': 'Jan', '02': 'Feb', '03': 'Mar', '04': 'Apr', '05': 'May', '06': 'Jun',\n",
    "             '07': 'Jul', '08': 'Aug', '09': 'Sep', '10': 'Oct', '11': 'Nov', '12': 'Dec'}\n",
    "table.rename(index=month_map)"
   ]
  },
  {
   "cell_type": "markdown",
   "id": "5602814e",
   "metadata": {},
   "source": [
    "<h3 style=\"color: #333333;\">Ratio of movies proudced in 20th century compared to 21th on Netlfix</h3>"
   ]
  },
  {
   "cell_type": "code",
   "execution_count": 14,
   "id": "bd37291f",
   "metadata": {},
   "outputs": [],
   "source": [
    "#Movies produced in 20th century\n",
    "tw = netflix[(netflix['type'] == 'Movie') & (netflix['release_year'] < 2001)]['show_id'].count()\n",
    "tw = (tw/len(netflix[(netflix['type'] == 'Movie')])) * 100"
   ]
  },
  {
   "cell_type": "code",
   "execution_count": 15,
   "id": "0e7abc96",
   "metadata": {},
   "outputs": [],
   "source": [
    "#Movies produced in 21th Century\n",
    "tf = netflix[(netflix['type'] == 'Movie') & (netflix['release_year']> 2000)]['show_id'].count()\n",
    "tf = (tf/len(netflix[(netflix['type'] == 'Movie')])) * 100"
   ]
  },
  {
   "cell_type": "code",
   "execution_count": 16,
   "id": "1fac4fa3",
   "metadata": {},
   "outputs": [
    {
     "name": "stdout",
     "output_type": "stream",
     "text": [
      "20th century movies make up 8.3%, while 21st century movies make up remaining 91.7% of movie content on Netflix\n"
     ]
    }
   ],
   "source": [
    "print(f'20th century movies make up {round(tw, 2)}%, while 21st century movies make up remaining {round(tf,2)}% of movie content on Netflix')"
   ]
  },
  {
   "cell_type": "markdown",
   "id": "c20a1a90",
   "metadata": {},
   "source": [
    "<h3 style=\"color: #333333;\">What are five oldest Movies and TV shows on Netlix?</h3><br>\n",
    "\n",
    "`With filtering and sorting, we can show the oldest produced content on Netflix.`"
   ]
  },
  {
   "cell_type": "code",
   "execution_count": 17,
   "id": "e5971d37",
   "metadata": {},
   "outputs": [
    {
     "data": {
      "text/html": [
       "<div>\n",
       "<style scoped>\n",
       "    .dataframe tbody tr th:only-of-type {\n",
       "        vertical-align: middle;\n",
       "    }\n",
       "\n",
       "    .dataframe tbody tr th {\n",
       "        vertical-align: top;\n",
       "    }\n",
       "\n",
       "    .dataframe thead th {\n",
       "        text-align: right;\n",
       "    }\n",
       "</style>\n",
       "<table border=\"1\" class=\"dataframe\">\n",
       "  <thead>\n",
       "    <tr style=\"text-align: right;\">\n",
       "      <th></th>\n",
       "      <th>title</th>\n",
       "      <th>director</th>\n",
       "      <th>release_year</th>\n",
       "    </tr>\n",
       "  </thead>\n",
       "  <tbody>\n",
       "    <tr>\n",
       "      <th>7790</th>\n",
       "      <td>Prelude to War</td>\n",
       "      <td>Frank Capra</td>\n",
       "      <td>1942</td>\n",
       "    </tr>\n",
       "    <tr>\n",
       "      <th>8205</th>\n",
       "      <td>The Battle of Midway</td>\n",
       "      <td>John Ford</td>\n",
       "      <td>1942</td>\n",
       "    </tr>\n",
       "    <tr>\n",
       "      <th>8660</th>\n",
       "      <td>Undercover: How to Operate Behind Enemy Lines</td>\n",
       "      <td>John Ford</td>\n",
       "      <td>1943</td>\n",
       "    </tr>\n",
       "    <tr>\n",
       "      <th>8763</th>\n",
       "      <td>WWII: Report from the Aleutians</td>\n",
       "      <td>John Huston</td>\n",
       "      <td>1943</td>\n",
       "    </tr>\n",
       "    <tr>\n",
       "      <th>8739</th>\n",
       "      <td>Why We Fight: The Battle of Russia</td>\n",
       "      <td>Frank Capra, Anatole Litvak</td>\n",
       "      <td>1943</td>\n",
       "    </tr>\n",
       "  </tbody>\n",
       "</table>\n",
       "</div>"
      ],
      "text/plain": [
       "                                              title  \\\n",
       "7790                                 Prelude to War   \n",
       "8205                           The Battle of Midway   \n",
       "8660  Undercover: How to Operate Behind Enemy Lines   \n",
       "8763                WWII: Report from the Aleutians   \n",
       "8739             Why We Fight: The Battle of Russia   \n",
       "\n",
       "                         director  release_year  \n",
       "7790                  Frank Capra          1942  \n",
       "8205                    John Ford          1942  \n",
       "8660                    John Ford          1943  \n",
       "8763                  John Huston          1943  \n",
       "8739  Frank Capra, Anatole Litvak          1943  "
      ]
     },
     "execution_count": 17,
     "metadata": {},
     "output_type": "execute_result"
    }
   ],
   "source": [
    "#5 oldest movies on Netflix\n",
    "filt = (netflix['type'] == 'Movie')\n",
    "netflix[filt][['title', 'director', 'release_year']].sort_values(by='release_year').head(5)"
   ]
  },
  {
   "cell_type": "code",
   "execution_count": 18,
   "id": "0fbc3876",
   "metadata": {},
   "outputs": [
    {
     "data": {
      "text/html": [
       "<div>\n",
       "<style scoped>\n",
       "    .dataframe tbody tr th:only-of-type {\n",
       "        vertical-align: middle;\n",
       "    }\n",
       "\n",
       "    .dataframe tbody tr th {\n",
       "        vertical-align: top;\n",
       "    }\n",
       "\n",
       "    .dataframe thead th {\n",
       "        text-align: right;\n",
       "    }\n",
       "</style>\n",
       "<table border=\"1\" class=\"dataframe\">\n",
       "  <thead>\n",
       "    <tr style=\"text-align: right;\">\n",
       "      <th></th>\n",
       "      <th>title</th>\n",
       "      <th>director</th>\n",
       "      <th>release_year</th>\n",
       "    </tr>\n",
       "  </thead>\n",
       "  <tbody>\n",
       "    <tr>\n",
       "      <th>4250</th>\n",
       "      <td>Pioneers: First Women Filmmakers*</td>\n",
       "      <td>NaN</td>\n",
       "      <td>1925</td>\n",
       "    </tr>\n",
       "    <tr>\n",
       "      <th>1331</th>\n",
       "      <td>Five Came Back: The Reference Films</td>\n",
       "      <td>NaN</td>\n",
       "      <td>1945</td>\n",
       "    </tr>\n",
       "    <tr>\n",
       "      <th>7743</th>\n",
       "      <td>Pioneers of African-American Cinema</td>\n",
       "      <td>Oscar Micheaux, Spencer Williams, Richard E. N...</td>\n",
       "      <td>1946</td>\n",
       "    </tr>\n",
       "    <tr>\n",
       "      <th>8541</th>\n",
       "      <td>The Twilight Zone (Original Series)</td>\n",
       "      <td>NaN</td>\n",
       "      <td>1963</td>\n",
       "    </tr>\n",
       "    <tr>\n",
       "      <th>8189</th>\n",
       "      <td>The Andy Griffith Show</td>\n",
       "      <td>NaN</td>\n",
       "      <td>1967</td>\n",
       "    </tr>\n",
       "  </tbody>\n",
       "</table>\n",
       "</div>"
      ],
      "text/plain": [
       "                                    title  \\\n",
       "4250    Pioneers: First Women Filmmakers*   \n",
       "1331  Five Came Back: The Reference Films   \n",
       "7743  Pioneers of African-American Cinema   \n",
       "8541  The Twilight Zone (Original Series)   \n",
       "8189               The Andy Griffith Show   \n",
       "\n",
       "                                               director  release_year  \n",
       "4250                                                NaN          1925  \n",
       "1331                                                NaN          1945  \n",
       "7743  Oscar Micheaux, Spencer Williams, Richard E. N...          1946  \n",
       "8541                                                NaN          1963  \n",
       "8189                                                NaN          1967  "
      ]
     },
     "execution_count": 18,
     "metadata": {},
     "output_type": "execute_result"
    }
   ],
   "source": [
    "#5 oldest TV shows on Netflix\n",
    "filt = (netflix['type'] == 'TV Show')\n",
    "netflix[filt][['title', 'director', 'release_year']].sort_values(by='release_year').head(5)"
   ]
  },
  {
   "cell_type": "markdown",
   "id": "bdd7a33e",
   "metadata": {},
   "source": [
    "<h3 style=\"color: #333333;\">Top 10 longest movies on Netlix</h3>"
   ]
  },
  {
   "cell_type": "code",
   "execution_count": 33,
   "id": "b396f3df",
   "metadata": {},
   "outputs": [
    {
     "data": {
      "text/html": [
       "<div>\n",
       "<style scoped>\n",
       "    .dataframe tbody tr th:only-of-type {\n",
       "        vertical-align: middle;\n",
       "    }\n",
       "\n",
       "    .dataframe tbody tr th {\n",
       "        vertical-align: top;\n",
       "    }\n",
       "\n",
       "    .dataframe thead th {\n",
       "        text-align: right;\n",
       "    }\n",
       "</style>\n",
       "<table border=\"1\" class=\"dataframe\">\n",
       "  <thead>\n",
       "    <tr style=\"text-align: right;\">\n",
       "      <th></th>\n",
       "      <th>show_id</th>\n",
       "      <th>type</th>\n",
       "      <th>title</th>\n",
       "      <th>director</th>\n",
       "      <th>cast</th>\n",
       "      <th>country</th>\n",
       "      <th>date_added</th>\n",
       "      <th>year_added</th>\n",
       "      <th>month_added</th>\n",
       "      <th>release_year</th>\n",
       "      <th>rating</th>\n",
       "      <th>duration</th>\n",
       "      <th>genre</th>\n",
       "    </tr>\n",
       "  </thead>\n",
       "  <tbody>\n",
       "    <tr>\n",
       "      <th>3482</th>\n",
       "      <td>s3483</td>\n",
       "      <td>Movie</td>\n",
       "      <td>Deliha 2</td>\n",
       "      <td>Gupse Özay</td>\n",
       "      <td>Gupse Özay, Eda Ece, Aksel Bonfil, Derya Alabo...</td>\n",
       "      <td>Turkey</td>\n",
       "      <td>September 27, 2019</td>\n",
       "      <td>2019</td>\n",
       "      <td>09</td>\n",
       "      <td>2018</td>\n",
       "      <td>TV-PG</td>\n",
       "      <td>102 min</td>\n",
       "      <td>Comedies, International Movies</td>\n",
       "    </tr>\n",
       "  </tbody>\n",
       "</table>\n",
       "</div>"
      ],
      "text/plain": [
       "     show_id   type     title    director  \\\n",
       "3482   s3483  Movie  Deliha 2  Gupse Özay   \n",
       "\n",
       "                                                   cast country  \\\n",
       "3482  Gupse Özay, Eda Ece, Aksel Bonfil, Derya Alabo...  Turkey   \n",
       "\n",
       "              date_added  year_added month_added  release_year rating  \\\n",
       "3482  September 27, 2019        2019          09          2018  TV-PG   \n",
       "\n",
       "     duration                           genre  \n",
       "3482  102 min  Comedies, International Movies  "
      ]
     },
     "execution_count": 33,
     "metadata": {},
     "output_type": "execute_result"
    }
   ],
   "source": [
    "netflix.sample()"
   ]
  },
  {
   "cell_type": "code",
   "execution_count": 19,
   "id": "6725f4f2",
   "metadata": {},
   "outputs": [
    {
     "data": {
      "text/html": [
       "<div>\n",
       "<style scoped>\n",
       "    .dataframe tbody tr th:only-of-type {\n",
       "        vertical-align: middle;\n",
       "    }\n",
       "\n",
       "    .dataframe tbody tr th {\n",
       "        vertical-align: top;\n",
       "    }\n",
       "\n",
       "    .dataframe thead th {\n",
       "        text-align: right;\n",
       "    }\n",
       "</style>\n",
       "<table border=\"1\" class=\"dataframe\">\n",
       "  <thead>\n",
       "    <tr style=\"text-align: right;\">\n",
       "      <th></th>\n",
       "      <th>title</th>\n",
       "      <th>director</th>\n",
       "      <th>release_year</th>\n",
       "      <th>duration</th>\n",
       "    </tr>\n",
       "  </thead>\n",
       "  <tbody>\n",
       "    <tr>\n",
       "      <th>4253</th>\n",
       "      <td>Black Mirror: Bandersnatch</td>\n",
       "      <td>NaN</td>\n",
       "      <td>2018</td>\n",
       "      <td>312</td>\n",
       "    </tr>\n",
       "    <tr>\n",
       "      <th>717</th>\n",
       "      <td>Headspace: Unwind Your Mind</td>\n",
       "      <td>NaN</td>\n",
       "      <td>2021</td>\n",
       "      <td>273</td>\n",
       "    </tr>\n",
       "    <tr>\n",
       "      <th>2491</th>\n",
       "      <td>The School of Mischief</td>\n",
       "      <td>Houssam El-Din Mustafa</td>\n",
       "      <td>1973</td>\n",
       "      <td>253</td>\n",
       "    </tr>\n",
       "    <tr>\n",
       "      <th>2487</th>\n",
       "      <td>No Longer kids</td>\n",
       "      <td>Samir Al Asfory</td>\n",
       "      <td>1979</td>\n",
       "      <td>237</td>\n",
       "    </tr>\n",
       "    <tr>\n",
       "      <th>2484</th>\n",
       "      <td>Lock Your Girls In</td>\n",
       "      <td>Fouad El-Mohandes</td>\n",
       "      <td>1982</td>\n",
       "      <td>233</td>\n",
       "    </tr>\n",
       "    <tr>\n",
       "      <th>2488</th>\n",
       "      <td>Raya and Sakina</td>\n",
       "      <td>Hussein Kamal</td>\n",
       "      <td>1984</td>\n",
       "      <td>230</td>\n",
       "    </tr>\n",
       "    <tr>\n",
       "      <th>166</th>\n",
       "      <td>Once Upon a Time in America</td>\n",
       "      <td>Sergio Leone</td>\n",
       "      <td>1984</td>\n",
       "      <td>229</td>\n",
       "    </tr>\n",
       "    <tr>\n",
       "      <th>7932</th>\n",
       "      <td>Sangam</td>\n",
       "      <td>Raj Kapoor</td>\n",
       "      <td>1964</td>\n",
       "      <td>228</td>\n",
       "    </tr>\n",
       "    <tr>\n",
       "      <th>1019</th>\n",
       "      <td>Lagaan</td>\n",
       "      <td>Ashutosh Gowariker</td>\n",
       "      <td>2001</td>\n",
       "      <td>224</td>\n",
       "    </tr>\n",
       "    <tr>\n",
       "      <th>4573</th>\n",
       "      <td>Jodhaa Akbar</td>\n",
       "      <td>Ashutosh Gowariker</td>\n",
       "      <td>2008</td>\n",
       "      <td>214</td>\n",
       "    </tr>\n",
       "  </tbody>\n",
       "</table>\n",
       "</div>"
      ],
      "text/plain": [
       "                            title                director  release_year  \\\n",
       "4253   Black Mirror: Bandersnatch                     NaN          2018   \n",
       "717   Headspace: Unwind Your Mind                     NaN          2021   \n",
       "2491       The School of Mischief  Houssam El-Din Mustafa          1973   \n",
       "2487               No Longer kids         Samir Al Asfory          1979   \n",
       "2484           Lock Your Girls In       Fouad El-Mohandes          1982   \n",
       "2488              Raya and Sakina           Hussein Kamal          1984   \n",
       "166   Once Upon a Time in America            Sergio Leone          1984   \n",
       "7932                       Sangam              Raj Kapoor          1964   \n",
       "1019                       Lagaan      Ashutosh Gowariker          2001   \n",
       "4573                 Jodhaa Akbar      Ashutosh Gowariker          2008   \n",
       "\n",
       "      duration  \n",
       "4253       312  \n",
       "717        273  \n",
       "2491       253  \n",
       "2487       237  \n",
       "2484       233  \n",
       "2488       230  \n",
       "166        229  \n",
       "7932       228  \n",
       "1019       224  \n",
       "4573       214  "
      ]
     },
     "execution_count": 19,
     "metadata": {},
     "output_type": "execute_result"
    }
   ],
   "source": [
    "filt = ((netflix['type'] == 'Movie') & ~(netflix['duration'].isnull()))\n",
    "longest_movies = netflix[filt].copy()\n",
    "longest_movies['duration'] = longest_movies['duration'].str.extract('(\\d+)')\n",
    "longest_movies['duration'] = longest_movies['duration'].astype(int)\n",
    "longest_movies[['title', 'director', 'release_year', 'duration']].sort_values(by='duration', ascending=False).head(10)"
   ]
  },
  {
   "cell_type": "markdown",
   "id": "bbe84e88",
   "metadata": {},
   "source": [
    "<h3 style=\"color: #333333;\">Country Analysis: What countries produce the most content?</h3><br>\n",
    "\n",
    "`Orginal dataset is copied with only two columns`**`[show_id, country]`**`. Null values are replaces  with`**`value=Unknown`**`. The country column can have multiple country listed for production, so with the use of`**`str.split and explode methods`**`, we made sure that one field contained only one country, whilst keeping the same index. Cleaned the trailing whitespace and grouped the data by country, counting show_id, unique for each movie/show.` "
   ]
  },
  {
   "cell_type": "code",
   "execution_count": 20,
   "id": "f6aa29c8",
   "metadata": {},
   "outputs": [
    {
     "data": {
      "text/plain": [
       "831"
      ]
     },
     "execution_count": 20,
     "metadata": {},
     "output_type": "execute_result"
    }
   ],
   "source": [
    "#checking null values \n",
    "netflix['country'].isna().sum()"
   ]
  },
  {
   "cell_type": "code",
   "execution_count": 21,
   "id": "d8afac5c",
   "metadata": {},
   "outputs": [],
   "source": [
    "#Copying and data cleaning\n",
    "df = netflix[['show_id', 'country']].copy()\n",
    "df['country'].fillna('Unknown', inplace=True)\n",
    "df['country'] = df['country'].str.split(',')\n",
    "df = df.explode('country')\n",
    "df['country'] = df['country'].str.strip()"
   ]
  },
  {
   "cell_type": "code",
   "execution_count": 22,
   "id": "7f5e114d",
   "metadata": {},
   "outputs": [
    {
     "data": {
      "text/plain": [
       "country\n",
       "United States     3690\n",
       "India             1046\n",
       "Unknown            831\n",
       "United Kingdom     806\n",
       "Canada             445\n",
       "France             393\n",
       "Japan              318\n",
       "Spain              232\n",
       "South Korea        231\n",
       "Germany            226\n",
       "Name: show_id, dtype: int64"
      ]
     },
     "execution_count": 22,
     "metadata": {},
     "output_type": "execute_result"
    }
   ],
   "source": [
    "#Grouping data and showing top 10 countries with most proudced content\n",
    "country_count = df.groupby(['country'])['show_id'].count().sort_values(ascending=False)\n",
    "country_count.head(10)"
   ]
  },
  {
   "cell_type": "markdown",
   "id": "0774ee64",
   "metadata": {},
   "source": [
    "<h3 style=\"color: #333333;\">Showing content distribution based on Genre</h3>"
   ]
  },
  {
   "cell_type": "code",
   "execution_count": 23,
   "id": "be712d75",
   "metadata": {},
   "outputs": [
    {
     "data": {
      "text/plain": [
       "genre\n",
       "International Movies        2752\n",
       "Dramas                      2427\n",
       "Comedies                    1674\n",
       "International TV Shows      1351\n",
       "Documentaries                869\n",
       "Action & Adventure           859\n",
       "TV Dramas                    763\n",
       "Independent Movies           756\n",
       "Children & Family Movies     641\n",
       "Romantic Movies              616\n",
       "Name: show_id, dtype: int64"
      ]
     },
     "execution_count": 23,
     "metadata": {},
     "output_type": "execute_result"
    }
   ],
   "source": [
    "df = netflix[['show_id', 'genre', 'type']].copy()\n",
    "df['genre'] = df['genre'].str.split(',')\n",
    "df = df.explode('genre')\n",
    "df['genre'] = df['genre'].str.strip()\n",
    "genre_distribution = df.groupby(['genre'])['show_id'].count().sort_values(ascending=False)\n",
    "genre_distribution.head(10)"
   ]
  },
  {
   "cell_type": "code",
   "execution_count": 24,
   "id": "8a08838e",
   "metadata": {},
   "outputs": [
    {
     "data": {
      "text/plain": [
       "genre\n",
       "International Movies    2752\n",
       "Dramas                  2427\n",
       "Comedies                1674\n",
       "Documentaries            869\n",
       "Action & Adventure       859\n",
       "Name: show_id, dtype: int64"
      ]
     },
     "execution_count": 24,
     "metadata": {},
     "output_type": "execute_result"
    }
   ],
   "source": [
    "#5 most popular genres in  movies\n",
    "movies = df[df['type'] == 'Movie'].groupby(['genre'])['show_id'].count().sort_values(ascending=False)\n",
    "movies.head(5)"
   ]
  },
  {
   "cell_type": "code",
   "execution_count": 25,
   "id": "3d3006f0",
   "metadata": {},
   "outputs": [
    {
     "data": {
      "text/plain": [
       "genre\n",
       "International TV Shows    1351\n",
       "TV Dramas                  763\n",
       "TV Comedies                581\n",
       "Crime TV Shows             470\n",
       "Kids' TV                   451\n",
       "Name: show_id, dtype: int64"
      ]
     },
     "execution_count": 25,
     "metadata": {},
     "output_type": "execute_result"
    }
   ],
   "source": [
    "#5 most popular genres in  tv shows\n",
    "shows = df[df['type'] == 'TV Show'].groupby(['genre'])['show_id'].count().sort_values(ascending=False)\n",
    "shows.head(5)"
   ]
  },
  {
   "cell_type": "markdown",
   "id": "83a9d824",
   "metadata": {},
   "source": [
    "<h3 style=\"color: #333333;\">Showing content distribution based on the rating</h3>"
   ]
  },
  {
   "cell_type": "code",
   "execution_count": 26,
   "id": "0e30824a",
   "metadata": {},
   "outputs": [
    {
     "data": {
      "text/plain": [
       "TV-MA       3207\n",
       "TV-14       2160\n",
       "TV-PG        863\n",
       "R            799\n",
       "PG-13        490\n",
       "TV-Y7        334\n",
       "TV-Y         307\n",
       "PG           287\n",
       "TV-G         220\n",
       "NR            80\n",
       "G             41\n",
       "TV-Y7-FV       6\n",
       "NC-17          3\n",
       "UR             3\n",
       "74 min         1\n",
       "84 min         1\n",
       "66 min         1\n",
       "Name: rating, dtype: int64"
      ]
     },
     "execution_count": 26,
     "metadata": {},
     "output_type": "execute_result"
    }
   ],
   "source": [
    "netflix['rating'].value_counts().sort_values(ascending=False)"
   ]
  },
  {
   "cell_type": "markdown",
   "id": "7f6eaa64",
   "metadata": {},
   "source": [
    "<h3 style=\"color: #333333;\">TV Show distribution based on the number of season they have</h3>\n",
    "\n",
    "`After we filtered dataset to contain only TV Shows, we used str.extract metod to get the number of seasons that was cast as type int. The following dataset was grouped by seasons and show_id was used as a metric to count `"
   ]
  },
  {
   "cell_type": "code",
   "execution_count": 27,
   "id": "7b757ad1",
   "metadata": {},
   "outputs": [
    {
     "data": {
      "text/html": [
       "<div>\n",
       "<style scoped>\n",
       "    .dataframe tbody tr th:only-of-type {\n",
       "        vertical-align: middle;\n",
       "    }\n",
       "\n",
       "    .dataframe tbody tr th {\n",
       "        vertical-align: top;\n",
       "    }\n",
       "\n",
       "    .dataframe thead th {\n",
       "        text-align: right;\n",
       "    }\n",
       "</style>\n",
       "<table border=\"1\" class=\"dataframe\">\n",
       "  <thead>\n",
       "    <tr style=\"text-align: right;\">\n",
       "      <th></th>\n",
       "      <th>tv_shows</th>\n",
       "    </tr>\n",
       "    <tr>\n",
       "      <th>seasons</th>\n",
       "      <th></th>\n",
       "    </tr>\n",
       "  </thead>\n",
       "  <tbody>\n",
       "    <tr>\n",
       "      <th>1</th>\n",
       "      <td>1793</td>\n",
       "    </tr>\n",
       "    <tr>\n",
       "      <th>2</th>\n",
       "      <td>425</td>\n",
       "    </tr>\n",
       "    <tr>\n",
       "      <th>3</th>\n",
       "      <td>199</td>\n",
       "    </tr>\n",
       "    <tr>\n",
       "      <th>4</th>\n",
       "      <td>95</td>\n",
       "    </tr>\n",
       "    <tr>\n",
       "      <th>5</th>\n",
       "      <td>65</td>\n",
       "    </tr>\n",
       "    <tr>\n",
       "      <th>6</th>\n",
       "      <td>33</td>\n",
       "    </tr>\n",
       "    <tr>\n",
       "      <th>7</th>\n",
       "      <td>23</td>\n",
       "    </tr>\n",
       "    <tr>\n",
       "      <th>8</th>\n",
       "      <td>17</td>\n",
       "    </tr>\n",
       "    <tr>\n",
       "      <th>9</th>\n",
       "      <td>9</td>\n",
       "    </tr>\n",
       "    <tr>\n",
       "      <th>10</th>\n",
       "      <td>7</td>\n",
       "    </tr>\n",
       "    <tr>\n",
       "      <th>11</th>\n",
       "      <td>2</td>\n",
       "    </tr>\n",
       "    <tr>\n",
       "      <th>12</th>\n",
       "      <td>2</td>\n",
       "    </tr>\n",
       "    <tr>\n",
       "      <th>13</th>\n",
       "      <td>3</td>\n",
       "    </tr>\n",
       "    <tr>\n",
       "      <th>15</th>\n",
       "      <td>2</td>\n",
       "    </tr>\n",
       "    <tr>\n",
       "      <th>17</th>\n",
       "      <td>1</td>\n",
       "    </tr>\n",
       "  </tbody>\n",
       "</table>\n",
       "</div>"
      ],
      "text/plain": [
       "         tv_shows\n",
       "seasons          \n",
       "1            1793\n",
       "2             425\n",
       "3             199\n",
       "4              95\n",
       "5              65\n",
       "6              33\n",
       "7              23\n",
       "8              17\n",
       "9               9\n",
       "10              7\n",
       "11              2\n",
       "12              2\n",
       "13              3\n",
       "15              2\n",
       "17              1"
      ]
     },
     "execution_count": 27,
     "metadata": {},
     "output_type": "execute_result"
    }
   ],
   "source": [
    "filt = (netflix['type'] == 'TV Show')\n",
    "longest_shows = netflix[filt].copy()\n",
    "longest_shows['seasons'] = longest_shows['duration'].str.extract('(\\d+)').astype(int)\n",
    "longest_shows.set_index('seasons')\n",
    "longest_shows.groupby('seasons').agg(tv_shows=('show_id', 'count'))\n"
   ]
  },
  {
   "cell_type": "markdown",
   "id": "008c961b",
   "metadata": {},
   "source": [
    "<h3 style=\"color: #333333;\">Top 10 most popular movie directors based on amount of content.</h3>"
   ]
  },
  {
   "cell_type": "code",
   "execution_count": 28,
   "id": "4999c697",
   "metadata": {},
   "outputs": [
    {
     "data": {
      "text/plain": [
       "0"
      ]
     },
     "execution_count": 28,
     "metadata": {},
     "output_type": "execute_result"
    }
   ],
   "source": [
    "#checking null values \n",
    "filt = ((netflix['type'] == 'Movie') & (netflix['director'].isna()))\n",
    "filt.isnull().sum()"
   ]
  },
  {
   "cell_type": "code",
   "execution_count": 29,
   "id": "2c8d7ddd",
   "metadata": {},
   "outputs": [
    {
     "data": {
      "text/plain": [
       "director\n",
       "Rajiv Chilaka             19\n",
       "Raúl Campos, Jan Suter    18\n",
       "Suhas Kadav               16\n",
       "Marcus Raboy              15\n",
       "Jay Karas                 14\n",
       "Cathy Garcia-Molina       13\n",
       "Martin Scorsese           12\n",
       "Jay Chapman               12\n",
       "Youssef Chahine           12\n",
       "Steven Spielberg          11\n",
       "Name: show_id, dtype: int64"
      ]
     },
     "execution_count": 29,
     "metadata": {},
     "output_type": "execute_result"
    }
   ],
   "source": [
    "netflix[netflix['type'] == 'Movie'].groupby('director')['show_id'].count().sort_values(ascending=False).head(10)"
   ]
  },
  {
   "cell_type": "markdown",
   "id": "39e009c9",
   "metadata": {},
   "source": [
    "<h3 style=\"color: #333333;\">Most popular actors on Netflix</h3>"
   ]
  },
  {
   "cell_type": "code",
   "execution_count": 30,
   "id": "38834247",
   "metadata": {},
   "outputs": [],
   "source": [
    "#Extracting and cleaning data\n",
    "df = netflix[['show_id', 'cast']].copy()\n",
    "df.dropna(subset='cast', inplace=True)\n",
    "df['cast'] = df['cast'].str.split(',')\n",
    "df = df.explode('cast')\n",
    "df['cast'] = df['cast'].str.strip()"
   ]
  },
  {
   "cell_type": "code",
   "execution_count": 31,
   "id": "0c31e46e",
   "metadata": {},
   "outputs": [
    {
     "data": {
      "text/plain": [
       "cast\n",
       "Anupam Kher         43\n",
       "Shah Rukh Khan      35\n",
       "Julie Tejwani       33\n",
       "Naseeruddin Shah    32\n",
       "Takahiro Sakurai    32\n",
       "Rupa Bhimani        31\n",
       "Om Puri             30\n",
       "Akshay Kumar        30\n",
       "Yuki Kaji           29\n",
       "Paresh Rawal        28\n",
       "Amitabh Bachchan    28\n",
       "Boman Irani         27\n",
       "Vincent Tong        26\n",
       "Rajesh Kava         26\n",
       "Kareena Kapoor      25\n",
       "Name: show_id, dtype: int64"
      ]
     },
     "execution_count": 31,
     "metadata": {},
     "output_type": "execute_result"
    }
   ],
   "source": [
    "#Grouping and counting actors's credits\n",
    "pop_actors = df.groupby('cast')['show_id'].count().sort_values(ascending=False)\n",
    "pop_actors.head(15)"
   ]
  },
  {
   "cell_type": "code",
   "execution_count": 32,
   "id": "d8e74593",
   "metadata": {},
   "outputs": [
    {
     "data": {
      "text/html": [
       "<div>\n",
       "<style scoped>\n",
       "    .dataframe tbody tr th:only-of-type {\n",
       "        vertical-align: middle;\n",
       "    }\n",
       "\n",
       "    .dataframe tbody tr th {\n",
       "        vertical-align: top;\n",
       "    }\n",
       "\n",
       "    .dataframe thead th {\n",
       "        text-align: right;\n",
       "    }\n",
       "</style>\n",
       "<table border=\"1\" class=\"dataframe\">\n",
       "  <thead>\n",
       "    <tr style=\"text-align: right;\">\n",
       "      <th></th>\n",
       "      <th>show_id</th>\n",
       "      <th>type</th>\n",
       "      <th>title</th>\n",
       "      <th>director</th>\n",
       "      <th>cast</th>\n",
       "      <th>country</th>\n",
       "      <th>date_added</th>\n",
       "      <th>year_added</th>\n",
       "      <th>month_added</th>\n",
       "      <th>release_year</th>\n",
       "      <th>rating</th>\n",
       "      <th>duration</th>\n",
       "      <th>genre</th>\n",
       "    </tr>\n",
       "  </thead>\n",
       "  <tbody>\n",
       "    <tr>\n",
       "      <th>3750</th>\n",
       "      <td>s3751</td>\n",
       "      <td>TV Show</td>\n",
       "      <td>Leila</td>\n",
       "      <td>NaN</td>\n",
       "      <td>Huma Qureshi, Siddharth, Rahul Khanna, Arif Za...</td>\n",
       "      <td>India</td>\n",
       "      <td>June 14, 2019</td>\n",
       "      <td>2019</td>\n",
       "      <td>06</td>\n",
       "      <td>2019</td>\n",
       "      <td>TV-MA</td>\n",
       "      <td>1 Season</td>\n",
       "      <td>British TV Shows, International TV Shows, TV D...</td>\n",
       "    </tr>\n",
       "    <tr>\n",
       "      <th>1848</th>\n",
       "      <td>s1849</td>\n",
       "      <td>TV Show</td>\n",
       "      <td>Half &amp; Half</td>\n",
       "      <td>NaN</td>\n",
       "      <td>Rachel True, Essence Atkins, Telma Hopkins, Ch...</td>\n",
       "      <td>United States</td>\n",
       "      <td>October 15, 2020</td>\n",
       "      <td>2020</td>\n",
       "      <td>10</td>\n",
       "      <td>2005</td>\n",
       "      <td>TV-14</td>\n",
       "      <td>4 Seasons</td>\n",
       "      <td>TV Comedies</td>\n",
       "    </tr>\n",
       "    <tr>\n",
       "      <th>2618</th>\n",
       "      <td>s2619</td>\n",
       "      <td>Movie</td>\n",
       "      <td>Küçük Esnaf</td>\n",
       "      <td>Bedran Güzel</td>\n",
       "      <td>İbrahim Büyükak, Zeynep Koçak, Gupse Özay, Cen...</td>\n",
       "      <td>Turkey</td>\n",
       "      <td>April 28, 2020</td>\n",
       "      <td>2020</td>\n",
       "      <td>04</td>\n",
       "      <td>2016</td>\n",
       "      <td>TV-MA</td>\n",
       "      <td>100 min</td>\n",
       "      <td>Comedies, International Movies</td>\n",
       "    </tr>\n",
       "    <tr>\n",
       "      <th>8543</th>\n",
       "      <td>s8544</td>\n",
       "      <td>Movie</td>\n",
       "      <td>The Unborn Child</td>\n",
       "      <td>Poj Arnon</td>\n",
       "      <td>Somchai Kemglad, Pitchanart Sakakorn, Chinarad...</td>\n",
       "      <td>Thailand</td>\n",
       "      <td>July 30, 2018</td>\n",
       "      <td>2018</td>\n",
       "      <td>07</td>\n",
       "      <td>2011</td>\n",
       "      <td>TV-MA</td>\n",
       "      <td>93 min</td>\n",
       "      <td>Horror Movies, International Movies</td>\n",
       "    </tr>\n",
       "    <tr>\n",
       "      <th>2247</th>\n",
       "      <td>s2248</td>\n",
       "      <td>Movie</td>\n",
       "      <td>Mama's Boy</td>\n",
       "      <td>Amro Salah</td>\n",
       "      <td>Hesham Maged, Shikoo, Mohammed Tharwat, Mahmou...</td>\n",
       "      <td>Egypt</td>\n",
       "      <td>July 10, 2020</td>\n",
       "      <td>2020</td>\n",
       "      <td>07</td>\n",
       "      <td>2018</td>\n",
       "      <td>TV-14</td>\n",
       "      <td>101 min</td>\n",
       "      <td>Comedies, International Movies</td>\n",
       "    </tr>\n",
       "  </tbody>\n",
       "</table>\n",
       "</div>"
      ],
      "text/plain": [
       "     show_id     type             title      director  \\\n",
       "3750   s3751  TV Show             Leila           NaN   \n",
       "1848   s1849  TV Show       Half & Half           NaN   \n",
       "2618   s2619    Movie       Küçük Esnaf  Bedran Güzel   \n",
       "8543   s8544    Movie  The Unborn Child     Poj Arnon   \n",
       "2247   s2248    Movie        Mama's Boy    Amro Salah   \n",
       "\n",
       "                                                   cast        country  \\\n",
       "3750  Huma Qureshi, Siddharth, Rahul Khanna, Arif Za...          India   \n",
       "1848  Rachel True, Essence Atkins, Telma Hopkins, Ch...  United States   \n",
       "2618  İbrahim Büyükak, Zeynep Koçak, Gupse Özay, Cen...         Turkey   \n",
       "8543  Somchai Kemglad, Pitchanart Sakakorn, Chinarad...       Thailand   \n",
       "2247  Hesham Maged, Shikoo, Mohammed Tharwat, Mahmou...          Egypt   \n",
       "\n",
       "            date_added  year_added month_added  release_year rating  \\\n",
       "3750     June 14, 2019        2019          06          2019  TV-MA   \n",
       "1848  October 15, 2020        2020          10          2005  TV-14   \n",
       "2618    April 28, 2020        2020          04          2016  TV-MA   \n",
       "8543     July 30, 2018        2018          07          2011  TV-MA   \n",
       "2247     July 10, 2020        2020          07          2018  TV-14   \n",
       "\n",
       "       duration                                              genre  \n",
       "3750   1 Season  British TV Shows, International TV Shows, TV D...  \n",
       "1848  4 Seasons                                        TV Comedies  \n",
       "2618    100 min                     Comedies, International Movies  \n",
       "8543     93 min                Horror Movies, International Movies  \n",
       "2247    101 min                     Comedies, International Movies  "
      ]
     },
     "execution_count": 32,
     "metadata": {},
     "output_type": "execute_result"
    }
   ],
   "source": [
    "netflix.sample(5)"
   ]
  },
  {
   "cell_type": "code",
   "execution_count": null,
   "id": "e6a6670d",
   "metadata": {},
   "outputs": [],
   "source": []
  }
 ],
 "metadata": {
  "kernelspec": {
   "display_name": "Python 3 (ipykernel)",
   "language": "python",
   "name": "python3"
  },
  "language_info": {
   "codemirror_mode": {
    "name": "ipython",
    "version": 3
   },
   "file_extension": ".py",
   "mimetype": "text/x-python",
   "name": "python",
   "nbconvert_exporter": "python",
   "pygments_lexer": "ipython3",
   "version": "3.11.0"
  },
  "varInspector": {
   "cols": {
    "lenName": 16,
    "lenType": 16,
    "lenVar": 40
   },
   "kernels_config": {
    "python": {
     "delete_cmd_postfix": "",
     "delete_cmd_prefix": "del ",
     "library": "var_list.py",
     "varRefreshCmd": "print(var_dic_list())"
    },
    "r": {
     "delete_cmd_postfix": ") ",
     "delete_cmd_prefix": "rm(",
     "library": "var_list.r",
     "varRefreshCmd": "cat(var_dic_list()) "
    }
   },
   "types_to_exclude": [
    "module",
    "function",
    "builtin_function_or_method",
    "instance",
    "_Feature"
   ],
   "window_display": false
  }
 },
 "nbformat": 4,
 "nbformat_minor": 5
}
